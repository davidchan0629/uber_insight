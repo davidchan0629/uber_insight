{
 "cells": [
  {
   "cell_type": "code",
   "execution_count": 1,
   "metadata": {},
   "outputs": [],
   "source": [
    "import pandas as pd\n",
    "import numpy as np\n",
    "import matplotlib.pyplot as plt\n",
    "import seaborn as sns\n",
    "\n",
    "from datetime import datetime, timedelta"
   ]
  },
  {
   "cell_type": "markdown",
   "metadata": {},
   "source": [
    "### Conclusion of the dataset:"
   ]
  },
  {
   "cell_type": "markdown",
   "metadata": {},
   "source": [
    "#### 1. Weekend generally have more completed trips than weekday time\n",
    "#### 2. Driver can start their work at 3-6pm for more completed trips\n",
    "#### 3. Drivers are likely to pick up more customers faster in office work hour and mid night hour\n",
    "#### 4. Morning period is not a good time for uber driver for their business\n",
    "#### 5. 4pm is the best starting hour of uber drivers if they want to achieve the highest number of business of their day\n",
    "#### 6. Part time uber drivers are recommend to start their work after 8pm for a steady customer surplus requests"
   ]
  },
  {
   "cell_type": "markdown",
   "metadata": {},
   "source": [
    "### Import dataset and perform data cleaning"
   ]
  },
  {
   "cell_type": "code",
   "execution_count": 2,
   "metadata": {},
   "outputs": [],
   "source": [
    "# Read the dataset\n",
    "df = pd.read_csv('dataset_1.csv')"
   ]
  },
  {
   "cell_type": "code",
   "execution_count": 3,
   "metadata": {},
   "outputs": [
    {
     "data": {
      "text/html": [
       "<div>\n",
       "<style scoped>\n",
       "    .dataframe tbody tr th:only-of-type {\n",
       "        vertical-align: middle;\n",
       "    }\n",
       "\n",
       "    .dataframe tbody tr th {\n",
       "        vertical-align: top;\n",
       "    }\n",
       "\n",
       "    .dataframe thead th {\n",
       "        text-align: right;\n",
       "    }\n",
       "</style>\n",
       "<table border=\"1\" class=\"dataframe\">\n",
       "  <thead>\n",
       "    <tr style=\"text-align: right;\">\n",
       "      <th></th>\n",
       "      <th>Date</th>\n",
       "      <th>Time (Local)</th>\n",
       "      <th>Eyeballs</th>\n",
       "      <th>Zeroes</th>\n",
       "      <th>Completed Trips</th>\n",
       "      <th>Requests</th>\n",
       "      <th>Unique Drivers</th>\n",
       "    </tr>\n",
       "  </thead>\n",
       "  <tbody>\n",
       "    <tr>\n",
       "      <th>0</th>\n",
       "      <td>10-Sep-12</td>\n",
       "      <td>7</td>\n",
       "      <td>5</td>\n",
       "      <td>0</td>\n",
       "      <td>2</td>\n",
       "      <td>2</td>\n",
       "      <td>9</td>\n",
       "    </tr>\n",
       "    <tr>\n",
       "      <th>1</th>\n",
       "      <td>NaN</td>\n",
       "      <td>8</td>\n",
       "      <td>6</td>\n",
       "      <td>0</td>\n",
       "      <td>2</td>\n",
       "      <td>2</td>\n",
       "      <td>14</td>\n",
       "    </tr>\n",
       "    <tr>\n",
       "      <th>2</th>\n",
       "      <td>NaN</td>\n",
       "      <td>9</td>\n",
       "      <td>8</td>\n",
       "      <td>3</td>\n",
       "      <td>0</td>\n",
       "      <td>0</td>\n",
       "      <td>14</td>\n",
       "    </tr>\n",
       "    <tr>\n",
       "      <th>3</th>\n",
       "      <td>NaN</td>\n",
       "      <td>10</td>\n",
       "      <td>9</td>\n",
       "      <td>2</td>\n",
       "      <td>0</td>\n",
       "      <td>1</td>\n",
       "      <td>14</td>\n",
       "    </tr>\n",
       "    <tr>\n",
       "      <th>4</th>\n",
       "      <td>NaN</td>\n",
       "      <td>11</td>\n",
       "      <td>11</td>\n",
       "      <td>1</td>\n",
       "      <td>4</td>\n",
       "      <td>4</td>\n",
       "      <td>11</td>\n",
       "    </tr>\n",
       "  </tbody>\n",
       "</table>\n",
       "</div>"
      ],
      "text/plain": [
       "        Date  Time (Local)  Eyeballs   Zeroes   Completed Trips   Requests   \\\n",
       "0  10-Sep-12             7          5        0                 2          2   \n",
       "1        NaN             8          6        0                 2          2   \n",
       "2        NaN             9          8        3                 0          0   \n",
       "3        NaN            10          9        2                 0          1   \n",
       "4        NaN            11         11        1                 4          4   \n",
       "\n",
       "   Unique Drivers  \n",
       "0               9  \n",
       "1              14  \n",
       "2              14  \n",
       "3              14  \n",
       "4              11  "
      ]
     },
     "execution_count": 3,
     "metadata": {},
     "output_type": "execute_result"
    }
   ],
   "source": [
    "df.head()"
   ]
  },
  {
   "cell_type": "code",
   "execution_count": 4,
   "metadata": {},
   "outputs": [
    {
     "name": "stdout",
     "output_type": "stream",
     "text": [
      "<class 'pandas.core.frame.DataFrame'>\n",
      "RangeIndex: 336 entries, 0 to 335\n",
      "Data columns (total 7 columns):\n",
      " #   Column            Non-Null Count  Dtype \n",
      "---  ------            --------------  ----- \n",
      " 0   Date              15 non-null     object\n",
      " 1   Time (Local)      336 non-null    int64 \n",
      " 2   Eyeballs          336 non-null    int64 \n",
      " 3   Zeroes            336 non-null    int64 \n",
      " 4   Completed Trips   336 non-null    int64 \n",
      " 5   Requests          336 non-null    int64 \n",
      " 6   Unique Drivers    336 non-null    int64 \n",
      "dtypes: int64(6), object(1)\n",
      "memory usage: 18.5+ KB\n"
     ]
    }
   ],
   "source": [
    "df.info()"
   ]
  },
  {
   "cell_type": "code",
   "execution_count": 5,
   "metadata": {},
   "outputs": [
    {
     "data": {
      "text/plain": [
       "Date                321\n",
       "Time (Local)          0\n",
       "Eyeballs              0\n",
       "Zeroes                0\n",
       "Completed Trips       0\n",
       "Requests              0\n",
       "Unique Drivers        0\n",
       "dtype: int64"
      ]
     },
     "execution_count": 5,
     "metadata": {},
     "output_type": "execute_result"
    }
   ],
   "source": [
    "# Check any null values\n",
    "df.isna().sum()"
   ]
  },
  {
   "cell_type": "code",
   "execution_count": 6,
   "metadata": {},
   "outputs": [
    {
     "data": {
      "text/html": [
       "<div>\n",
       "<style scoped>\n",
       "    .dataframe tbody tr th:only-of-type {\n",
       "        vertical-align: middle;\n",
       "    }\n",
       "\n",
       "    .dataframe tbody tr th {\n",
       "        vertical-align: top;\n",
       "    }\n",
       "\n",
       "    .dataframe thead th {\n",
       "        text-align: right;\n",
       "    }\n",
       "</style>\n",
       "<table border=\"1\" class=\"dataframe\">\n",
       "  <thead>\n",
       "    <tr style=\"text-align: right;\">\n",
       "      <th></th>\n",
       "      <th>Date</th>\n",
       "      <th>Time (Local)</th>\n",
       "      <th>Eyeballs</th>\n",
       "      <th>Zeroes</th>\n",
       "      <th>Completed Trips</th>\n",
       "      <th>Requests</th>\n",
       "      <th>Unique Drivers</th>\n",
       "    </tr>\n",
       "  </thead>\n",
       "  <tbody>\n",
       "    <tr>\n",
       "      <th>0</th>\n",
       "      <td>10-Sep-12</td>\n",
       "      <td>7</td>\n",
       "      <td>5</td>\n",
       "      <td>0</td>\n",
       "      <td>2</td>\n",
       "      <td>2</td>\n",
       "      <td>9</td>\n",
       "    </tr>\n",
       "    <tr>\n",
       "      <th>1</th>\n",
       "      <td>NaN</td>\n",
       "      <td>8</td>\n",
       "      <td>6</td>\n",
       "      <td>0</td>\n",
       "      <td>2</td>\n",
       "      <td>2</td>\n",
       "      <td>14</td>\n",
       "    </tr>\n",
       "    <tr>\n",
       "      <th>2</th>\n",
       "      <td>NaN</td>\n",
       "      <td>9</td>\n",
       "      <td>8</td>\n",
       "      <td>3</td>\n",
       "      <td>0</td>\n",
       "      <td>0</td>\n",
       "      <td>14</td>\n",
       "    </tr>\n",
       "    <tr>\n",
       "      <th>3</th>\n",
       "      <td>NaN</td>\n",
       "      <td>10</td>\n",
       "      <td>9</td>\n",
       "      <td>2</td>\n",
       "      <td>0</td>\n",
       "      <td>1</td>\n",
       "      <td>14</td>\n",
       "    </tr>\n",
       "    <tr>\n",
       "      <th>4</th>\n",
       "      <td>NaN</td>\n",
       "      <td>11</td>\n",
       "      <td>11</td>\n",
       "      <td>1</td>\n",
       "      <td>4</td>\n",
       "      <td>4</td>\n",
       "      <td>11</td>\n",
       "    </tr>\n",
       "  </tbody>\n",
       "</table>\n",
       "</div>"
      ],
      "text/plain": [
       "        Date  Time (Local)  Eyeballs   Zeroes   Completed Trips   Requests   \\\n",
       "0  10-Sep-12             7          5        0                 2          2   \n",
       "1        NaN             8          6        0                 2          2   \n",
       "2        NaN             9          8        3                 0          0   \n",
       "3        NaN            10          9        2                 0          1   \n",
       "4        NaN            11         11        1                 4          4   \n",
       "\n",
       "   Unique Drivers  \n",
       "0               9  \n",
       "1              14  \n",
       "2              14  \n",
       "3              14  \n",
       "4              11  "
      ]
     },
     "execution_count": 6,
     "metadata": {},
     "output_type": "execute_result"
    }
   ],
   "source": [
    "df.head()"
   ]
  },
  {
   "cell_type": "code",
   "execution_count": 7,
   "metadata": {},
   "outputs": [],
   "source": [
    "df['Date'] = pd.to_datetime(df['Date'], format='%d-%b-%y')"
   ]
  },
  {
   "cell_type": "code",
   "execution_count": 8,
   "metadata": {},
   "outputs": [
    {
     "data": {
      "text/html": [
       "<div>\n",
       "<style scoped>\n",
       "    .dataframe tbody tr th:only-of-type {\n",
       "        vertical-align: middle;\n",
       "    }\n",
       "\n",
       "    .dataframe tbody tr th {\n",
       "        vertical-align: top;\n",
       "    }\n",
       "\n",
       "    .dataframe thead th {\n",
       "        text-align: right;\n",
       "    }\n",
       "</style>\n",
       "<table border=\"1\" class=\"dataframe\">\n",
       "  <thead>\n",
       "    <tr style=\"text-align: right;\">\n",
       "      <th></th>\n",
       "      <th>Date</th>\n",
       "      <th>Time (Local)</th>\n",
       "      <th>Eyeballs</th>\n",
       "      <th>Zeroes</th>\n",
       "      <th>Completed Trips</th>\n",
       "      <th>Requests</th>\n",
       "      <th>Unique Drivers</th>\n",
       "    </tr>\n",
       "  </thead>\n",
       "  <tbody>\n",
       "    <tr>\n",
       "      <th>0</th>\n",
       "      <td>2012-09-10</td>\n",
       "      <td>7</td>\n",
       "      <td>5</td>\n",
       "      <td>0</td>\n",
       "      <td>2</td>\n",
       "      <td>2</td>\n",
       "      <td>9</td>\n",
       "    </tr>\n",
       "    <tr>\n",
       "      <th>1</th>\n",
       "      <td>NaT</td>\n",
       "      <td>8</td>\n",
       "      <td>6</td>\n",
       "      <td>0</td>\n",
       "      <td>2</td>\n",
       "      <td>2</td>\n",
       "      <td>14</td>\n",
       "    </tr>\n",
       "    <tr>\n",
       "      <th>2</th>\n",
       "      <td>NaT</td>\n",
       "      <td>9</td>\n",
       "      <td>8</td>\n",
       "      <td>3</td>\n",
       "      <td>0</td>\n",
       "      <td>0</td>\n",
       "      <td>14</td>\n",
       "    </tr>\n",
       "    <tr>\n",
       "      <th>3</th>\n",
       "      <td>NaT</td>\n",
       "      <td>10</td>\n",
       "      <td>9</td>\n",
       "      <td>2</td>\n",
       "      <td>0</td>\n",
       "      <td>1</td>\n",
       "      <td>14</td>\n",
       "    </tr>\n",
       "    <tr>\n",
       "      <th>4</th>\n",
       "      <td>NaT</td>\n",
       "      <td>11</td>\n",
       "      <td>11</td>\n",
       "      <td>1</td>\n",
       "      <td>4</td>\n",
       "      <td>4</td>\n",
       "      <td>11</td>\n",
       "    </tr>\n",
       "  </tbody>\n",
       "</table>\n",
       "</div>"
      ],
      "text/plain": [
       "        Date  Time (Local)  Eyeballs   Zeroes   Completed Trips   Requests   \\\n",
       "0 2012-09-10             7          5        0                 2          2   \n",
       "1        NaT             8          6        0                 2          2   \n",
       "2        NaT             9          8        3                 0          0   \n",
       "3        NaT            10          9        2                 0          1   \n",
       "4        NaT            11         11        1                 4          4   \n",
       "\n",
       "   Unique Drivers  \n",
       "0               9  \n",
       "1              14  \n",
       "2              14  \n",
       "3              14  \n",
       "4              11  "
      ]
     },
     "execution_count": 8,
     "metadata": {},
     "output_type": "execute_result"
    }
   ],
   "source": [
    "df.head()"
   ]
  },
  {
   "cell_type": "code",
   "execution_count": 9,
   "metadata": {},
   "outputs": [],
   "source": [
    "# Foward fill the date column\n",
    "df['Date'].ffill(inplace=True)\n",
    "\n",
    "# Convert the date column to datetime\n",
    "df['Date'] = pd.to_datetime(df['Date'], format='%d-%b-%Y')\n",
    "\n",
    "# Extract week of day from date\n",
    "df['day_name'] = df['Date'].dt.day_name()\n",
    "df['day_of_week'] = df['Date'].dt.day_of_week\n",
    "\n",
    "# Convert the date by showing the date only\n",
    "df['Date'] = pd.to_datetime(df['Date']).dt.date"
   ]
  },
  {
   "cell_type": "code",
   "execution_count": 10,
   "metadata": {},
   "outputs": [],
   "source": [
    "# Convert 'Date' column to datetime\n",
    "df['Date_Time'] = pd.to_datetime(df['Date'], format='%Y-%m-%d')\n",
    "\n",
    "# Convert 'Hour' column to timedelta\n",
    "df['Hour'] = pd.to_timedelta(df['Time (Local)'], unit='h')\n",
    "\n",
    "# Combine 'Date' and 'Hour' columns\n",
    "df['Combined'] = df['Date_Time'] + df['Hour']\n",
    "\n",
    "# Format the combined date and hour\n",
    "df['Combined'] = df['Combined'].dt.strftime('%Y-%m-%d %H:%M:%S')\n",
    "\n",
    "# Drop the unnecessary columns\n",
    "df.drop(['Date_Time', 'Hour'], axis=1, inplace=True)\n",
    "\n",
    "# Rename the combined column\n",
    "df.rename(columns={'Combined': 'Date_time'}, inplace=True)"
   ]
  },
  {
   "cell_type": "code",
   "execution_count": 11,
   "metadata": {},
   "outputs": [],
   "source": [
    "# Create date dimension table\n",
    "df_date = df[['Date', 'day_of_week','day_name']]"
   ]
  },
  {
   "cell_type": "markdown",
   "metadata": {},
   "source": [
    "### By calculating the complete trip in each day, we can see weekends have more complete trips than the normal weekday "
   ]
  },
  {
   "cell_type": "code",
   "execution_count": 12,
   "metadata": {},
   "outputs": [],
   "source": [
    "# Remove leading and trailing spaces from column names\n",
    "df.rename(columns=lambda x: x.strip(), inplace=True)"
   ]
  },
  {
   "cell_type": "code",
   "execution_count": 13,
   "metadata": {},
   "outputs": [
    {
     "data": {
      "text/html": [
       "<div>\n",
       "<style scoped>\n",
       "    .dataframe tbody tr th:only-of-type {\n",
       "        vertical-align: middle;\n",
       "    }\n",
       "\n",
       "    .dataframe tbody tr th {\n",
       "        vertical-align: top;\n",
       "    }\n",
       "\n",
       "    .dataframe thead th {\n",
       "        text-align: right;\n",
       "    }\n",
       "</style>\n",
       "<table border=\"1\" class=\"dataframe\">\n",
       "  <thead>\n",
       "    <tr style=\"text-align: right;\">\n",
       "      <th></th>\n",
       "      <th>Date</th>\n",
       "      <th>Completed Trips</th>\n",
       "      <th>day_name</th>\n",
       "      <th>day_of_week</th>\n",
       "    </tr>\n",
       "  </thead>\n",
       "  <tbody>\n",
       "    <tr>\n",
       "      <th>281</th>\n",
       "      <td>2012-09-22</td>\n",
       "      <td>248</td>\n",
       "      <td>Saturday</td>\n",
       "      <td>5</td>\n",
       "    </tr>\n",
       "    <tr>\n",
       "      <th>113</th>\n",
       "      <td>2012-09-15</td>\n",
       "      <td>199</td>\n",
       "      <td>Saturday</td>\n",
       "      <td>5</td>\n",
       "    </tr>\n",
       "    <tr>\n",
       "      <th>257</th>\n",
       "      <td>2012-09-21</td>\n",
       "      <td>190</td>\n",
       "      <td>Friday</td>\n",
       "      <td>4</td>\n",
       "    </tr>\n",
       "    <tr>\n",
       "      <th>305</th>\n",
       "      <td>2012-09-23</td>\n",
       "      <td>111</td>\n",
       "      <td>Sunday</td>\n",
       "      <td>6</td>\n",
       "    </tr>\n",
       "    <tr>\n",
       "      <th>89</th>\n",
       "      <td>2012-09-14</td>\n",
       "      <td>108</td>\n",
       "      <td>Friday</td>\n",
       "      <td>4</td>\n",
       "    </tr>\n",
       "    <tr>\n",
       "      <th>137</th>\n",
       "      <td>2012-09-16</td>\n",
       "      <td>93</td>\n",
       "      <td>Sunday</td>\n",
       "      <td>6</td>\n",
       "    </tr>\n",
       "    <tr>\n",
       "      <th>41</th>\n",
       "      <td>2012-09-12</td>\n",
       "      <td>91</td>\n",
       "      <td>Wednesday</td>\n",
       "      <td>2</td>\n",
       "    </tr>\n",
       "    <tr>\n",
       "      <th>233</th>\n",
       "      <td>2012-09-20</td>\n",
       "      <td>70</td>\n",
       "      <td>Thursday</td>\n",
       "      <td>3</td>\n",
       "    </tr>\n",
       "    <tr>\n",
       "      <th>161</th>\n",
       "      <td>2012-09-17</td>\n",
       "      <td>57</td>\n",
       "      <td>Monday</td>\n",
       "      <td>0</td>\n",
       "    </tr>\n",
       "    <tr>\n",
       "      <th>65</th>\n",
       "      <td>2012-09-13</td>\n",
       "      <td>45</td>\n",
       "      <td>Thursday</td>\n",
       "      <td>3</td>\n",
       "    </tr>\n",
       "    <tr>\n",
       "      <th>185</th>\n",
       "      <td>2012-09-18</td>\n",
       "      <td>42</td>\n",
       "      <td>Tuesday</td>\n",
       "      <td>1</td>\n",
       "    </tr>\n",
       "    <tr>\n",
       "      <th>209</th>\n",
       "      <td>2012-09-19</td>\n",
       "      <td>41</td>\n",
       "      <td>Wednesday</td>\n",
       "      <td>2</td>\n",
       "    </tr>\n",
       "    <tr>\n",
       "      <th>17</th>\n",
       "      <td>2012-09-11</td>\n",
       "      <td>40</td>\n",
       "      <td>Tuesday</td>\n",
       "      <td>1</td>\n",
       "    </tr>\n",
       "    <tr>\n",
       "      <th>0</th>\n",
       "      <td>2012-09-10</td>\n",
       "      <td>26</td>\n",
       "      <td>Monday</td>\n",
       "      <td>0</td>\n",
       "    </tr>\n",
       "    <tr>\n",
       "      <th>329</th>\n",
       "      <td>2012-09-24</td>\n",
       "      <td>4</td>\n",
       "      <td>Monday</td>\n",
       "      <td>0</td>\n",
       "    </tr>\n",
       "  </tbody>\n",
       "</table>\n",
       "</div>"
      ],
      "text/plain": [
       "           Date  Completed Trips   day_name  day_of_week\n",
       "281  2012-09-22              248   Saturday            5\n",
       "113  2012-09-15              199   Saturday            5\n",
       "257  2012-09-21              190     Friday            4\n",
       "305  2012-09-23              111     Sunday            6\n",
       "89   2012-09-14              108     Friday            4\n",
       "137  2012-09-16               93     Sunday            6\n",
       "41   2012-09-12               91  Wednesday            2\n",
       "233  2012-09-20               70   Thursday            3\n",
       "161  2012-09-17               57     Monday            0\n",
       "65   2012-09-13               45   Thursday            3\n",
       "185  2012-09-18               42    Tuesday            1\n",
       "209  2012-09-19               41  Wednesday            2\n",
       "17   2012-09-11               40    Tuesday            1\n",
       "0    2012-09-10               26     Monday            0\n",
       "329  2012-09-24                4     Monday            0"
      ]
     },
     "execution_count": 13,
     "metadata": {},
     "output_type": "execute_result"
    }
   ],
   "source": [
    "# Aggregrate the sum of trips by date\n",
    "sum_of_trips = df.groupby('Date')['Completed Trips'].sum().reset_index()\n",
    "\n",
    "# Join table to get the day of week and day name\n",
    "trips_by_day = sum_of_trips.merge(df[['Date', 'day_name', 'day_of_week']], on='Date', how='left').drop_duplicates()\n",
    "\n",
    "trips_by_day.sort_values(by='Completed Trips', ascending=False)"
   ]
  },
  {
   "cell_type": "markdown",
   "metadata": {},
   "source": [
    "#### To be more specific, Saturday are having the highest completed trips while Friday are also good in number.\n",
    "#### While Monday to Wednesday are at the bottom of the completed trips"
   ]
  },
  {
   "cell_type": "code",
   "execution_count": 14,
   "metadata": {},
   "outputs": [
    {
     "data": {
      "image/png": "[encoded data removed]",
      "text/plain": [
       "<Figure size 600x600 with 1 Axes>"
      ]
     },
     "metadata": {},
     "output_type": "display_data"
    }
   ],
   "source": [
    "# Create a new column to indicate if it's a weekend or not\n",
    "trips_by_day['IsWeekend'] = trips_by_day['day_of_week'].isin([5, 6])\n",
    "\n",
    "# Plot the bar chart with highlighted bars for weekends\n",
    "plt.figure(figsize=(6, 6))\n",
    "sns.barplot(x='Date', y='Completed Trips', data=trips_by_day, hue='IsWeekend')\n",
    "\n",
    "# Rotate x-axis labels for better visibility\n",
    "plt.xticks(rotation=90)\n",
    "\n",
    "# Show the plot\n",
    "plt.show()\n"
   ]
  },
  {
   "cell_type": "markdown",
   "metadata": {},
   "source": [
    "### For the most demanding 24 hour period, it usually start from 3 - 6pm and driver can start their business in this interval"
   ]
  },
  {
   "cell_type": "code",
   "execution_count": 15,
   "metadata": {},
   "outputs": [
    {
     "data": {
      "text/html": [
       "<div>\n",
       "<style scoped>\n",
       "    .dataframe tbody tr th:only-of-type {\n",
       "        vertical-align: middle;\n",
       "    }\n",
       "\n",
       "    .dataframe tbody tr th {\n",
       "        vertical-align: top;\n",
       "    }\n",
       "\n",
       "    .dataframe thead th {\n",
       "        text-align: right;\n",
       "    }\n",
       "</style>\n",
       "<table border=\"1\" class=\"dataframe\">\n",
       "  <thead>\n",
       "    <tr style=\"text-align: right;\">\n",
       "      <th></th>\n",
       "      <th>Date</th>\n",
       "      <th>Time (Local)</th>\n",
       "      <th>Eyeballs</th>\n",
       "      <th>Zeroes</th>\n",
       "      <th>Completed Trips</th>\n",
       "      <th>Requests</th>\n",
       "      <th>Unique Drivers</th>\n",
       "      <th>day_name</th>\n",
       "      <th>day_of_week</th>\n",
       "      <th>Date_time</th>\n",
       "    </tr>\n",
       "  </thead>\n",
       "  <tbody>\n",
       "    <tr>\n",
       "      <th>0</th>\n",
       "      <td>2012-09-10</td>\n",
       "      <td>7</td>\n",
       "      <td>5</td>\n",
       "      <td>0</td>\n",
       "      <td>2</td>\n",
       "      <td>2</td>\n",
       "      <td>9</td>\n",
       "      <td>Monday</td>\n",
       "      <td>0</td>\n",
       "      <td>2012-09-10 07:00:00</td>\n",
       "    </tr>\n",
       "    <tr>\n",
       "      <th>1</th>\n",
       "      <td>2012-09-10</td>\n",
       "      <td>8</td>\n",
       "      <td>6</td>\n",
       "      <td>0</td>\n",
       "      <td>2</td>\n",
       "      <td>2</td>\n",
       "      <td>14</td>\n",
       "      <td>Monday</td>\n",
       "      <td>0</td>\n",
       "      <td>2012-09-10 08:00:00</td>\n",
       "    </tr>\n",
       "    <tr>\n",
       "      <th>2</th>\n",
       "      <td>2012-09-10</td>\n",
       "      <td>9</td>\n",
       "      <td>8</td>\n",
       "      <td>3</td>\n",
       "      <td>0</td>\n",
       "      <td>0</td>\n",
       "      <td>14</td>\n",
       "      <td>Monday</td>\n",
       "      <td>0</td>\n",
       "      <td>2012-09-10 09:00:00</td>\n",
       "    </tr>\n",
       "    <tr>\n",
       "      <th>3</th>\n",
       "      <td>2012-09-10</td>\n",
       "      <td>10</td>\n",
       "      <td>9</td>\n",
       "      <td>2</td>\n",
       "      <td>0</td>\n",
       "      <td>1</td>\n",
       "      <td>14</td>\n",
       "      <td>Monday</td>\n",
       "      <td>0</td>\n",
       "      <td>2012-09-10 10:00:00</td>\n",
       "    </tr>\n",
       "    <tr>\n",
       "      <th>4</th>\n",
       "      <td>2012-09-10</td>\n",
       "      <td>11</td>\n",
       "      <td>11</td>\n",
       "      <td>1</td>\n",
       "      <td>4</td>\n",
       "      <td>4</td>\n",
       "      <td>11</td>\n",
       "      <td>Monday</td>\n",
       "      <td>0</td>\n",
       "      <td>2012-09-10 11:00:00</td>\n",
       "    </tr>\n",
       "  </tbody>\n",
       "</table>\n",
       "</div>"
      ],
      "text/plain": [
       "         Date  Time (Local)  Eyeballs  Zeroes  Completed Trips  Requests  \\\n",
       "0  2012-09-10             7         5       0                2         2   \n",
       "1  2012-09-10             8         6       0                2         2   \n",
       "2  2012-09-10             9         8       3                0         0   \n",
       "3  2012-09-10            10         9       2                0         1   \n",
       "4  2012-09-10            11        11       1                4         4   \n",
       "\n",
       "   Unique Drivers day_name  day_of_week            Date_time  \n",
       "0               9   Monday            0  2012-09-10 07:00:00  \n",
       "1              14   Monday            0  2012-09-10 08:00:00  \n",
       "2              14   Monday            0  2012-09-10 09:00:00  \n",
       "3              14   Monday            0  2012-09-10 10:00:00  \n",
       "4              11   Monday            0  2012-09-10 11:00:00  "
      ]
     },
     "execution_count": 15,
     "metadata": {},
     "output_type": "execute_result"
    }
   ],
   "source": [
    "df.head()"
   ]
  },
  {
   "cell_type": "code",
   "execution_count": 16,
   "metadata": {},
   "outputs": [],
   "source": [
    "# Rename the combined column\n",
    "df.rename(columns={'Combined': 'Date_time'}, inplace=True)\n",
    "\n",
    "# Format the date\n",
    "df['Date_time'] = pd.to_datetime(df['Date_time'], format='%Y-%m-%d %H:%M:%S') \n"
   ]
  },
  {
   "cell_type": "code",
   "execution_count": 17,
   "metadata": {},
   "outputs": [
    {
     "data": {
      "text/html": [
       "<div>\n",
       "<style scoped>\n",
       "    .dataframe tbody tr th:only-of-type {\n",
       "        vertical-align: middle;\n",
       "    }\n",
       "\n",
       "    .dataframe tbody tr th {\n",
       "        vertical-align: top;\n",
       "    }\n",
       "\n",
       "    .dataframe thead th {\n",
       "        text-align: right;\n",
       "    }\n",
       "</style>\n",
       "<table border=\"1\" class=\"dataframe\">\n",
       "  <thead>\n",
       "    <tr style=\"text-align: right;\">\n",
       "      <th></th>\n",
       "      <th>Date</th>\n",
       "      <th>Time (Local)</th>\n",
       "      <th>Eyeballs</th>\n",
       "      <th>Zeroes</th>\n",
       "      <th>Completed Trips</th>\n",
       "      <th>Requests</th>\n",
       "      <th>Unique Drivers</th>\n",
       "      <th>day_name</th>\n",
       "      <th>day_of_week</th>\n",
       "      <th>Date_time</th>\n",
       "    </tr>\n",
       "  </thead>\n",
       "  <tbody>\n",
       "    <tr>\n",
       "      <th>0</th>\n",
       "      <td>2012-09-10</td>\n",
       "      <td>7</td>\n",
       "      <td>5</td>\n",
       "      <td>0</td>\n",
       "      <td>2</td>\n",
       "      <td>2</td>\n",
       "      <td>9</td>\n",
       "      <td>Monday</td>\n",
       "      <td>0</td>\n",
       "      <td>2012-09-10 07:00:00</td>\n",
       "    </tr>\n",
       "    <tr>\n",
       "      <th>1</th>\n",
       "      <td>2012-09-10</td>\n",
       "      <td>8</td>\n",
       "      <td>6</td>\n",
       "      <td>0</td>\n",
       "      <td>2</td>\n",
       "      <td>2</td>\n",
       "      <td>14</td>\n",
       "      <td>Monday</td>\n",
       "      <td>0</td>\n",
       "      <td>2012-09-10 08:00:00</td>\n",
       "    </tr>\n",
       "    <tr>\n",
       "      <th>2</th>\n",
       "      <td>2012-09-10</td>\n",
       "      <td>9</td>\n",
       "      <td>8</td>\n",
       "      <td>3</td>\n",
       "      <td>0</td>\n",
       "      <td>0</td>\n",
       "      <td>14</td>\n",
       "      <td>Monday</td>\n",
       "      <td>0</td>\n",
       "      <td>2012-09-10 09:00:00</td>\n",
       "    </tr>\n",
       "    <tr>\n",
       "      <th>3</th>\n",
       "      <td>2012-09-10</td>\n",
       "      <td>10</td>\n",
       "      <td>9</td>\n",
       "      <td>2</td>\n",
       "      <td>0</td>\n",
       "      <td>1</td>\n",
       "      <td>14</td>\n",
       "      <td>Monday</td>\n",
       "      <td>0</td>\n",
       "      <td>2012-09-10 10:00:00</td>\n",
       "    </tr>\n",
       "    <tr>\n",
       "      <th>4</th>\n",
       "      <td>2012-09-10</td>\n",
       "      <td>11</td>\n",
       "      <td>11</td>\n",
       "      <td>1</td>\n",
       "      <td>4</td>\n",
       "      <td>4</td>\n",
       "      <td>11</td>\n",
       "      <td>Monday</td>\n",
       "      <td>0</td>\n",
       "      <td>2012-09-10 11:00:00</td>\n",
       "    </tr>\n",
       "  </tbody>\n",
       "</table>\n",
       "</div>"
      ],
      "text/plain": [
       "         Date  Time (Local)  Eyeballs  Zeroes  Completed Trips  Requests  \\\n",
       "0  2012-09-10             7         5       0                2         2   \n",
       "1  2012-09-10             8         6       0                2         2   \n",
       "2  2012-09-10             9         8       3                0         0   \n",
       "3  2012-09-10            10         9       2                0         1   \n",
       "4  2012-09-10            11        11       1                4         4   \n",
       "\n",
       "   Unique Drivers day_name  day_of_week           Date_time  \n",
       "0               9   Monday            0 2012-09-10 07:00:00  \n",
       "1              14   Monday            0 2012-09-10 08:00:00  \n",
       "2              14   Monday            0 2012-09-10 09:00:00  \n",
       "3              14   Monday            0 2012-09-10 10:00:00  \n",
       "4              11   Monday            0 2012-09-10 11:00:00  "
      ]
     },
     "execution_count": 17,
     "metadata": {},
     "output_type": "execute_result"
    }
   ],
   "source": [
    "df.head()"
   ]
  },
  {
   "cell_type": "code",
   "execution_count": 18,
   "metadata": {},
   "outputs": [],
   "source": [
    "df.drop(['Date', 'day_name'], axis=1, inplace=True)"
   ]
  },
  {
   "cell_type": "code",
   "execution_count": 19,
   "metadata": {},
   "outputs": [],
   "source": [
    "# Set up foward window indexer and perform rolling sum\n",
    "indexer = pd.api.indexers.FixedForwardWindowIndexer(window_size=24)\n",
    "df_agg_twentyfour_hrs = df.set_index(\"Date_time\").rolling(window=indexer, min_periods=1).sum().reset_index()\n",
    "\n",
    "# Convert the date_time column to datetime\n",
    "df_agg_twentyfour_hrs['Date_time'] = pd.to_datetime(df_agg_twentyfour_hrs['Date_time'])\n",
    "\n",
    "# Concatenate the date_time column with the next 24 hours\n",
    "df_agg_twentyfour_hrs['time_interval'] = df_agg_twentyfour_hrs['Date_time'].astype(str) + ' - ' + ((df_agg_twentyfour_hrs['Date_time'] + timedelta(hours=24)).astype(str))"
   ]
  },
  {
   "cell_type": "code",
   "execution_count": 20,
   "metadata": {},
   "outputs": [
    {
     "data": {
      "text/html": [
       "<div>\n",
       "<style scoped>\n",
       "    .dataframe tbody tr th:only-of-type {\n",
       "        vertical-align: middle;\n",
       "    }\n",
       "\n",
       "    .dataframe tbody tr th {\n",
       "        vertical-align: top;\n",
       "    }\n",
       "\n",
       "    .dataframe thead th {\n",
       "        text-align: right;\n",
       "    }\n",
       "</style>\n",
       "<table border=\"1\" class=\"dataframe\">\n",
       "  <thead>\n",
       "    <tr style=\"text-align: right;\">\n",
       "      <th></th>\n",
       "      <th>Date_time</th>\n",
       "      <th>Time (Local)</th>\n",
       "      <th>Eyeballs</th>\n",
       "      <th>Zeroes</th>\n",
       "      <th>Completed Trips</th>\n",
       "      <th>Requests</th>\n",
       "      <th>Unique Drivers</th>\n",
       "      <th>day_of_week</th>\n",
       "      <th>time_interval</th>\n",
       "    </tr>\n",
       "  </thead>\n",
       "  <tbody>\n",
       "    <tr>\n",
       "      <th>274</th>\n",
       "      <td>2012-09-21 17:00:00</td>\n",
       "      <td>276.0</td>\n",
       "      <td>1015.0</td>\n",
       "      <td>207.0</td>\n",
       "      <td>278.0</td>\n",
       "      <td>367.0</td>\n",
       "      <td>349.0</td>\n",
       "      <td>113.0</td>\n",
       "      <td>2012-09-21 17:00:00 - 2012-09-22 17:00:00</td>\n",
       "    </tr>\n",
       "    <tr>\n",
       "      <th>273</th>\n",
       "      <td>2012-09-21 16:00:00</td>\n",
       "      <td>276.0</td>\n",
       "      <td>1006.0</td>\n",
       "      <td>194.0</td>\n",
       "      <td>274.0</td>\n",
       "      <td>361.0</td>\n",
       "      <td>348.0</td>\n",
       "      <td>112.0</td>\n",
       "      <td>2012-09-21 16:00:00 - 2012-09-22 16:00:00</td>\n",
       "    </tr>\n",
       "    <tr>\n",
       "      <th>277</th>\n",
       "      <td>2012-09-21 20:00:00</td>\n",
       "      <td>276.0</td>\n",
       "      <td>971.0</td>\n",
       "      <td>192.0</td>\n",
       "      <td>261.0</td>\n",
       "      <td>347.0</td>\n",
       "      <td>324.0</td>\n",
       "      <td>116.0</td>\n",
       "      <td>2012-09-21 20:00:00 - 2012-09-22 20:00:00</td>\n",
       "    </tr>\n",
       "    <tr>\n",
       "      <th>272</th>\n",
       "      <td>2012-09-21 15:00:00</td>\n",
       "      <td>276.0</td>\n",
       "      <td>961.0</td>\n",
       "      <td>182.0</td>\n",
       "      <td>260.0</td>\n",
       "      <td>345.0</td>\n",
       "      <td>344.0</td>\n",
       "      <td>111.0</td>\n",
       "      <td>2012-09-21 15:00:00 - 2012-09-22 15:00:00</td>\n",
       "    </tr>\n",
       "    <tr>\n",
       "      <th>275</th>\n",
       "      <td>2012-09-21 18:00:00</td>\n",
       "      <td>276.0</td>\n",
       "      <td>988.0</td>\n",
       "      <td>184.0</td>\n",
       "      <td>260.0</td>\n",
       "      <td>351.0</td>\n",
       "      <td>349.0</td>\n",
       "      <td>114.0</td>\n",
       "      <td>2012-09-21 18:00:00 - 2012-09-22 18:00:00</td>\n",
       "    </tr>\n",
       "  </tbody>\n",
       "</table>\n",
       "</div>"
      ],
      "text/plain": [
       "              Date_time  Time (Local)  Eyeballs  Zeroes  Completed Trips  \\\n",
       "274 2012-09-21 17:00:00         276.0    1015.0   207.0            278.0   \n",
       "273 2012-09-21 16:00:00         276.0    1006.0   194.0            274.0   \n",
       "277 2012-09-21 20:00:00         276.0     971.0   192.0            261.0   \n",
       "272 2012-09-21 15:00:00         276.0     961.0   182.0            260.0   \n",
       "275 2012-09-21 18:00:00         276.0     988.0   184.0            260.0   \n",
       "\n",
       "     Requests  Unique Drivers  day_of_week  \\\n",
       "274     367.0           349.0        113.0   \n",
       "273     361.0           348.0        112.0   \n",
       "277     347.0           324.0        116.0   \n",
       "272     345.0           344.0        111.0   \n",
       "275     351.0           349.0        114.0   \n",
       "\n",
       "                                 time_interval  \n",
       "274  2012-09-21 17:00:00 - 2012-09-22 17:00:00  \n",
       "273  2012-09-21 16:00:00 - 2012-09-22 16:00:00  \n",
       "277  2012-09-21 20:00:00 - 2012-09-22 20:00:00  \n",
       "272  2012-09-21 15:00:00 - 2012-09-22 15:00:00  \n",
       "275  2012-09-21 18:00:00 - 2012-09-22 18:00:00  "
      ]
     },
     "execution_count": 20,
     "metadata": {},
     "output_type": "execute_result"
    }
   ],
   "source": [
    "df_agg_twentyfour_hrs.nlargest(5, 'Completed Trips')"
   ]
  },
  {
   "cell_type": "code",
   "execution_count": null,
   "metadata": {},
   "outputs": [],
   "source": []
  },
  {
   "cell_type": "markdown",
   "metadata": {},
   "source": [
    "#### In an hour to hour perspective Within a day, office off work hour and mid night hour are having the most successful trips\n",
    "#### Surprisingly, we don't see much customers jump in uber at the morning. However, We can also see the completed trips are gradually increase from the morning to afternoon hour"
   ]
  },
  {
   "cell_type": "code",
   "execution_count": 21,
   "metadata": {},
   "outputs": [
    {
     "data": {
      "text/plain": [
       "<Axes: xlabel='Time (Local)', ylabel='Completed Trips'>"
      ]
     },
     "execution_count": 21,
     "metadata": {},
     "output_type": "execute_result"
    },
    {
     "data": {
      "image/png": "[encoded data removed]",
      "text/plain": [
       "<Figure size 640x480 with 1 Axes>"
      ]
     },
     "metadata": {},
     "output_type": "display_data"
    }
   ],
   "source": [
    "trips_by_time = df.groupby('Time (Local)')['Completed Trips'].sum().reset_index()\n",
    "\n",
    "# Rank the trips by time\n",
    "trips_by_time['trips_rank'] = trips_by_time['Completed Trips'].rank(ascending=False).astype(int)\n",
    "\n",
    "# color the plot based on top 5 or not\n",
    "coloring = ['grey' if (x < trips_by_time['Completed Trips'].nlargest(5).min()) else 'blue' for x in trips_by_time['Completed Trips']]\n",
    "\n",
    "sns.barplot(x='Time (Local)', y='Completed Trips', data=trips_by_time, palette=coloring)"
   ]
  },
  {
   "cell_type": "markdown",
   "metadata": {},
   "source": [
    "### What percentages of all zeroes during the two week period occurred on weekend (Friday at 5 pm to Sunday at 3 am)?"
   ]
  },
  {
   "cell_type": "markdown",
   "metadata": {},
   "source": [
    "### Customer see no cars on the screen in weekend is quite high"
   ]
  },
  {
   "cell_type": "code",
   "execution_count": 22,
   "metadata": {},
   "outputs": [
    {
     "name": "stdout",
     "output_type": "stream",
     "text": [
      "Percentage of zero car on user screen in the weekend: 44.43666899930021\n"
     ]
    }
   ],
   "source": [
    "# Slice the dataframe after the specific date and time\n",
    "df_weekend = df[((df['day_of_week'] == 4) & (df['Time (Local)'] >= 17)) |\n",
    "               ((df['day_of_week'] == 5)) |\n",
    "               ((df['day_of_week'] == 6) & (df['Time (Local)'] < 2))\n",
    "               ]\n",
    "\n",
    "# total user have zero car on their screen\n",
    "total_zero = df['Zeroes'].sum()\n",
    "\n",
    "# total user have zero car on their screen in weekend period\n",
    "weekend_zero = df_weekend['Zeroes'].sum()\n",
    "\n",
    "# zero percentage in weekend compare to total\n",
    "weekend_zero_ratio = (weekend_zero / total_zero) * 100\n",
    "\n",
    "print(\"Percentage of zero car on user screen in the weekend: \" + str(weekend_zero_ratio))"
   ]
  },
  {
   "cell_type": "markdown",
   "metadata": {},
   "source": [
    "### The weighted average ratio graph can further support the insight of more customers use uber in the office off hour and mid night time"
   ]
  },
  {
   "cell_type": "code",
   "execution_count": 23,
   "metadata": {},
   "outputs": [],
   "source": [
    "# Weighted average ratio of completed trips\n",
    "df['Weighted_avg_completed_trips'] = df['Completed Trips'] / df['Unique Drivers']\n",
    "\n",
    "# Replace the inf values with 0\n",
    "df['Weighted_avg_completed_trips'].replace([np.inf, -np.inf], 0, inplace=True)\n",
    "\n",
    "completed_weighted_avg = df.groupby('Time (Local)')['Weighted_avg_completed_trips'].mean().reset_index()"
   ]
  },
  {
   "cell_type": "code",
   "execution_count": 24,
   "metadata": {},
   "outputs": [
    {
     "data": {
      "image/png": "[encoded data removed]",
      "text/plain": [
       "<Figure size 640x480 with 1 Axes>"
      ]
     },
     "metadata": {},
     "output_type": "display_data"
    }
   ],
   "source": [
    "ax = sns.lineplot(x='Time (Local)', y='Weighted_avg_completed_trips', data=completed_weighted_avg)\n",
    "\n",
    "# Set the label text for the y-axis and x-axis\n",
    "ax.set_ylabel('Completed trips weighted average')\n",
    "ax.set_xlabel('Hour')\n",
    "\n",
    "# Show the plot\n",
    "plt.show()"
   ]
  },
  {
   "cell_type": "markdown",
   "metadata": {},
   "source": [
    "### Consider uber drivers have a 8 working hour, 4pm is the good beginning hour according to the highest completed trips they can have"
   ]
  },
  {
   "cell_type": "code",
   "execution_count": 25,
   "metadata": {},
   "outputs": [],
   "source": [
    "# Cast the date_time column to datetime\n",
    "df['Date_time'] = df['Date_time'].astype('datetime64[ns]')\n",
    "\n",
    "# Create the 8 hrs rolling sum dataframe\n",
    "df_eight_hours = df.set_index('Date_time').resample('8H').sum().reset_index()\n",
    "\n",
    "# Create the time interval column\n",
    "df_eight_hours['time_interval'] = df_eight_hours['Date_time'].astype(str) + ' - ' + (df_eight_hours['Date_time'] + timedelta(hours=8)).astype(str)"
   ]
  },
  {
   "cell_type": "code",
   "execution_count": 26,
   "metadata": {},
   "outputs": [
    {
     "data": {
      "text/html": [
       "<div>\n",
       "<style scoped>\n",
       "    .dataframe tbody tr th:only-of-type {\n",
       "        vertical-align: middle;\n",
       "    }\n",
       "\n",
       "    .dataframe tbody tr th {\n",
       "        vertical-align: top;\n",
       "    }\n",
       "\n",
       "    .dataframe thead th {\n",
       "        text-align: right;\n",
       "    }\n",
       "</style>\n",
       "<table border=\"1\" class=\"dataframe\">\n",
       "  <thead>\n",
       "    <tr style=\"text-align: right;\">\n",
       "      <th></th>\n",
       "      <th>Date_time</th>\n",
       "      <th>Time (Local)</th>\n",
       "      <th>Eyeballs</th>\n",
       "      <th>Zeroes</th>\n",
       "      <th>Completed Trips</th>\n",
       "      <th>Requests</th>\n",
       "      <th>Unique Drivers</th>\n",
       "      <th>day_of_week</th>\n",
       "      <th>Weighted_avg_completed_trips</th>\n",
       "      <th>time_interval</th>\n",
       "    </tr>\n",
       "  </thead>\n",
       "  <tbody>\n",
       "    <tr>\n",
       "      <th>35</th>\n",
       "      <td>2012-09-21 16:00:00</td>\n",
       "      <td>156</td>\n",
       "      <td>515</td>\n",
       "      <td>88</td>\n",
       "      <td>153</td>\n",
       "      <td>192</td>\n",
       "      <td>198</td>\n",
       "      <td>32</td>\n",
       "      <td>6.357265</td>\n",
       "      <td>2012-09-21 16:00:00 - 2012-09-22 00:00:00</td>\n",
       "    </tr>\n",
       "    <tr>\n",
       "      <th>38</th>\n",
       "      <td>2012-09-22 16:00:00</td>\n",
       "      <td>156</td>\n",
       "      <td>469</td>\n",
       "      <td>113</td>\n",
       "      <td>127</td>\n",
       "      <td>175</td>\n",
       "      <td>142</td>\n",
       "      <td>40</td>\n",
       "      <td>7.314552</td>\n",
       "      <td>2012-09-22 16:00:00 - 2012-09-23 00:00:00</td>\n",
       "    </tr>\n",
       "    <tr>\n",
       "      <th>17</th>\n",
       "      <td>2012-09-15 16:00:00</td>\n",
       "      <td>156</td>\n",
       "      <td>436</td>\n",
       "      <td>152</td>\n",
       "      <td>112</td>\n",
       "      <td>170</td>\n",
       "      <td>107</td>\n",
       "      <td>40</td>\n",
       "      <td>8.299235</td>\n",
       "      <td>2012-09-15 16:00:00 - 2012-09-16 00:00:00</td>\n",
       "    </tr>\n",
       "    <tr>\n",
       "      <th>14</th>\n",
       "      <td>2012-09-14 16:00:00</td>\n",
       "      <td>156</td>\n",
       "      <td>353</td>\n",
       "      <td>46</td>\n",
       "      <td>81</td>\n",
       "      <td>95</td>\n",
       "      <td>121</td>\n",
       "      <td>32</td>\n",
       "      <td>4.997644</td>\n",
       "      <td>2012-09-14 16:00:00 - 2012-09-15 00:00:00</td>\n",
       "    </tr>\n",
       "    <tr>\n",
       "      <th>37</th>\n",
       "      <td>2012-09-22 08:00:00</td>\n",
       "      <td>92</td>\n",
       "      <td>325</td>\n",
       "      <td>78</td>\n",
       "      <td>70</td>\n",
       "      <td>91</td>\n",
       "      <td>77</td>\n",
       "      <td>40</td>\n",
       "      <td>6.780556</td>\n",
       "      <td>2012-09-22 08:00:00 - 2012-09-22 16:00:00</td>\n",
       "    </tr>\n",
       "  </tbody>\n",
       "</table>\n",
       "</div>"
      ],
      "text/plain": [
       "             Date_time  Time (Local)  Eyeballs  Zeroes  Completed Trips  \\\n",
       "35 2012-09-21 16:00:00           156       515      88              153   \n",
       "38 2012-09-22 16:00:00           156       469     113              127   \n",
       "17 2012-09-15 16:00:00           156       436     152              112   \n",
       "14 2012-09-14 16:00:00           156       353      46               81   \n",
       "37 2012-09-22 08:00:00            92       325      78               70   \n",
       "\n",
       "    Requests  Unique Drivers  day_of_week  Weighted_avg_completed_trips  \\\n",
       "35       192             198           32                      6.357265   \n",
       "38       175             142           40                      7.314552   \n",
       "17       170             107           40                      8.299235   \n",
       "14        95             121           32                      4.997644   \n",
       "37        91              77           40                      6.780556   \n",
       "\n",
       "                                time_interval  \n",
       "35  2012-09-21 16:00:00 - 2012-09-22 00:00:00  \n",
       "38  2012-09-22 16:00:00 - 2012-09-23 00:00:00  \n",
       "17  2012-09-15 16:00:00 - 2012-09-16 00:00:00  \n",
       "14  2012-09-14 16:00:00 - 2012-09-15 00:00:00  \n",
       "37  2012-09-22 08:00:00 - 2012-09-22 16:00:00  "
      ]
     },
     "execution_count": 26,
     "metadata": {},
     "output_type": "execute_result"
    }
   ],
   "source": [
    "# Top 5 highest customer uber car requests interval\n",
    "df_eight_hours.nlargest(5, 'Requests')"
   ]
  },
  {
   "cell_type": "markdown",
   "metadata": {},
   "source": [
    "### For the part time drivers, starting the business after 8pm will be a great choice as the customer car request is higher than the drivers supply. They can have a steady number of successful trips while without using too much of their time"
   ]
  },
  {
   "cell_type": "code",
   "execution_count": 27,
   "metadata": {},
   "outputs": [],
   "source": [
    "# Create the supply and demand dataframe and unpivot it for plotting\n",
    "\n",
    "df_supply_demand = df.groupby('Time (Local)').agg({'Requests': 'sum', 'Unique Drivers': 'sum'}).reset_index()\n",
    "df_supply_demand_melted = df_supply_demand.melt(id_vars = 'Time (Local)', value_vars = ['Requests', 'Unique Drivers'], value_name = 'total')"
   ]
  },
  {
   "cell_type": "code",
   "execution_count": 28,
   "metadata": {},
   "outputs": [
    {
     "data": {
      "text/plain": [
       "<Axes: xlabel='Time (Local)', ylabel='total'>"
      ]
     },
     "execution_count": 28,
     "metadata": {},
     "output_type": "execute_result"
    },
    {
     "data": {
      "image/png": "[encoded data removed]",
      "text/plain": [
       "<Figure size 1200x800 with 1 Axes>"
      ]
     },
     "metadata": {},
     "output_type": "display_data"
    }
   ],
   "source": [
    "plt.figure(figsize=(12, 8))\n",
    "sns.lineplot(x='Time (Local)', y='total', hue = 'variable',data = df_supply_demand_melted)"
   ]
  },
  {
   "cell_type": "markdown",
   "metadata": {},
   "source": [
    "### Customer have the a low chance to request uber car at 5am morning"
   ]
  },
  {
   "cell_type": "code",
   "execution_count": 29,
   "metadata": {},
   "outputs": [],
   "source": [
    "indexer = pd.api.indexers.FixedForwardWindowIndexer(window_size=72)\n",
    "df_agg_seventytwo_hrs = df.set_index(\"Date_time\").rolling(window=indexer, min_periods=1).sum().reset_index()\n",
    "\n",
    "# Include only the completed 72 hours rolling sum rows \n",
    "df_agg_seventytwo_hrs = df_agg_seventytwo_hrs[df_agg_seventytwo_hrs[\"Date_time\"] <= (df_agg_seventytwo_hrs[\"Date_time\"].max() - pd.Timedelta(hours=72))]\n",
    "\n",
    "# Create the time interval column\n",
    "df_agg_seventytwo_hrs['time_interval'] = df_agg_seventytwo_hrs['Date_time'].astype(str) + ' - ' + (df_agg_seventytwo_hrs['Date_time'] + pd.Timedelta(hours=72)).astype(str)\n",
    "\n",
    "# Zeros to eyeballs ratio for the percentage of customer who have seen no cars on their screen\n",
    "df_agg_seventytwo_hrs['zeros_eyeballs_ratio'] = df_agg_seventytwo_hrs['Zeroes'] / df_agg_seventytwo_hrs['Eyeballs']"
   ]
  },
  {
   "cell_type": "code",
   "execution_count": 30,
   "metadata": {},
   "outputs": [
    {
     "data": {
      "text/html": [
       "<div>\n",
       "<style scoped>\n",
       "    .dataframe tbody tr th:only-of-type {\n",
       "        vertical-align: middle;\n",
       "    }\n",
       "\n",
       "    .dataframe tbody tr th {\n",
       "        vertical-align: top;\n",
       "    }\n",
       "\n",
       "    .dataframe thead th {\n",
       "        text-align: right;\n",
       "    }\n",
       "</style>\n",
       "<table border=\"1\" class=\"dataframe\">\n",
       "  <thead>\n",
       "    <tr style=\"text-align: right;\">\n",
       "      <th></th>\n",
       "      <th>Date_time</th>\n",
       "      <th>Time (Local)</th>\n",
       "      <th>Eyeballs</th>\n",
       "      <th>Zeroes</th>\n",
       "      <th>Completed Trips</th>\n",
       "      <th>Requests</th>\n",
       "      <th>Unique Drivers</th>\n",
       "      <th>day_of_week</th>\n",
       "      <th>Weighted_avg_completed_trips</th>\n",
       "      <th>time_interval</th>\n",
       "      <th>zeros_eyeballs_ratio</th>\n",
       "    </tr>\n",
       "  </thead>\n",
       "  <tbody>\n",
       "    <tr>\n",
       "      <th>118</th>\n",
       "      <td>2012-09-15 05:00:00</td>\n",
       "      <td>828.0</td>\n",
       "      <td>1495.0</td>\n",
       "      <td>438.0</td>\n",
       "      <td>292.0</td>\n",
       "      <td>431.0</td>\n",
       "      <td>454.0</td>\n",
       "      <td>244.0</td>\n",
       "      <td>37.088176</td>\n",
       "      <td>2012-09-15 05:00:00 - 2012-09-18 05:00:00</td>\n",
       "      <td>0.292977</td>\n",
       "    </tr>\n",
       "  </tbody>\n",
       "</table>\n",
       "</div>"
      ],
      "text/plain": [
       "              Date_time  Time (Local)  Eyeballs  Zeroes  Completed Trips  \\\n",
       "118 2012-09-15 05:00:00         828.0    1495.0   438.0            292.0   \n",
       "\n",
       "     Requests  Unique Drivers  day_of_week  Weighted_avg_completed_trips  \\\n",
       "118     431.0           454.0        244.0                     37.088176   \n",
       "\n",
       "                                 time_interval  zeros_eyeballs_ratio  \n",
       "118  2012-09-15 05:00:00 - 2012-09-18 05:00:00              0.292977  "
      ]
     },
     "execution_count": 30,
     "metadata": {},
     "output_type": "execute_result"
    }
   ],
   "source": [
    "df_agg_seventytwo_hrs.nlargest(1, 'zeros_eyeballs_ratio')"
   ]
  },
  {
   "cell_type": "code",
   "execution_count": null,
   "metadata": {},
   "outputs": [],
   "source": []
  },
  {
   "cell_type": "code",
   "execution_count": null,
   "metadata": {},
   "outputs": [],
   "source": []
  }
 ],
 "metadata": {
  "kernelspec": {
   "display_name": "base",
   "language": "python",
   "name": "python3"
  },
  "language_info": {
   "codemirror_mode": {
    "name": "ipython",
    "version": 3
   },
   "file_extension": ".py",
   "mimetype": "text/x-python",
   "name": "python",
   "nbconvert_exporter": "python",
   "pygments_lexer": "ipython3",
   "version": "3.11.5"
  }
 },
 "nbformat": 4,
 "nbformat_minor": 2
}
